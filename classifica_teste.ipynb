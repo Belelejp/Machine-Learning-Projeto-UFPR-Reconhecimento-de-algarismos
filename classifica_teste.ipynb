{
 "cells": [
  {
   "cell_type": "code",
   "execution_count": 1,
   "metadata": {},
   "outputs": [],
   "source": [
    "# carrega dados de teste para o classificador\n",
    "%run -i 'separa_algarismos.ipynb'"
   ]
  },
  {
   "cell_type": "code",
   "execution_count": 2,
   "metadata": {},
   "outputs": [],
   "source": [
    "# Teste com o modelo gerado com Mnist + rede neural\n",
    "\n",
    "# no mnist o digito é escrito em branco (255) no fundo preto (0), essa\n",
    "# inversão é feita com Vetores = -Vetores + 255, além disso é\n",
    "# preciso normalizar a escala 0:255 entre 0 e 1, por isso a divisão por 255\n",
    "for i in np.arange(len(Vetores)):\n",
    "    Vetores[i] = (-Vetores[i] + 255)/255"
   ]
  },
  {
   "cell_type": "code",
   "execution_count": 3,
   "metadata": {},
   "outputs": [],
   "source": [
    "# carrega modelo do classificador\n",
    "from sklearn.externals import joblib\n",
    "\n",
    "#modelo = joblib.load('modelo.pkl') \n",
    "modelo = joblib.load('Modelos_de_Classificacao/modelo_mnist.pkl')"
   ]
  },
  {
   "cell_type": "code",
   "execution_count": 5,
   "metadata": {},
   "outputs": [
    {
     "data": {
      "text/plain": [
       "array(['0', '2', '3', '1', '9', '1'],\n",
       "      dtype='<U1')"
      ]
     },
     "execution_count": 5,
     "metadata": {},
     "output_type": "execute_result"
    }
   ],
   "source": [
    "# testar o modelo a novos dados - (gabarito : 0, 2, 3, 7, 4, 1)\n",
    "modelo.predict(Vetores[0:6])"
   ]
  },
  {
   "cell_type": "code",
   "execution_count": null,
   "metadata": {},
   "outputs": [],
   "source": []
  }
 ],
 "metadata": {
  "kernelspec": {
   "display_name": "Python 3",
   "language": "python",
   "name": "python3"
  },
  "language_info": {
   "codemirror_mode": {
    "name": "ipython",
    "version": 3
   },
   "file_extension": ".py",
   "mimetype": "text/x-python",
   "name": "python",
   "nbconvert_exporter": "python",
   "pygments_lexer": "ipython3",
   "version": "3.6.8"
  }
 },
 "nbformat": 4,
 "nbformat_minor": 2
}
