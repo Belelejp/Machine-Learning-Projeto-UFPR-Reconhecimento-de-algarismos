{
 "cells": [
  {
   "cell_type": "code",
   "execution_count": 187,
   "metadata": {
    "scrolled": true
   },
   "outputs": [],
   "source": [
    "import cv2\n",
    "import matplotlib.pyplot as plt\n",
    "import numpy as np\n",
    "def extracao(filename):\n",
    "    Vet = []\n",
    "    image = cv2.imread(filename)\n",
    "    gray = cv2.cvtColor(image, cv2.COLOR_BGR2GRAY)\n",
    "    blurred = cv2.GaussianBlur(gray,(5,5),0)\n",
    "    thresh = cv2.adaptiveThreshold(blurred, 255, cv2.ADAPTIVE_THRESH_GAUSSIAN_C, cv2.THRESH_BINARY, 135, 20)\n",
    "    for i in range(15):\n",
    "        for k in range(10):\n",
    "            crop_img = (thresh[25+i*200:(i+1)*200-25, 15+k*200:(k+1)*200-15])\n",
    "            crop_img = cv2.resize(crop_img,dsize=(28,28),interpolation=cv2.INTER_AREA)\n",
    "            Vet.append(crop_img)\n",
    "    return(Vet)\n",
    "Vet = []\n",
    "Target = []\n",
    "for i in range(6):\n",
    "    for k in range(15):\n",
    "        for j in range(10):\n",
    "            Target.append(j)\n",
    "    Vet = Vet + extracao('Folha (%i).jpg'%(i+1))  \n",
    "np.save('Num.npy',Vet)"
   ]
  },
  {
   "cell_type": "code",
   "execution_count": null,
   "metadata": {},
   "outputs": [],
   "source": []
  },
  {
   "cell_type": "code",
   "execution_count": null,
   "metadata": {},
   "outputs": [],
   "source": []
  }
 ],
 "metadata": {
  "kernelspec": {
   "display_name": "Python 3",
   "language": "python",
   "name": "python3"
  },
  "language_info": {
   "codemirror_mode": {
    "name": "ipython",
    "version": 3
   },
   "file_extension": ".py",
   "mimetype": "text/x-python",
   "name": "python",
   "nbconvert_exporter": "python",
   "pygments_lexer": "ipython3",
   "version": "3.7.3"
  }
 },
 "nbformat": 4,
 "nbformat_minor": 2
}
