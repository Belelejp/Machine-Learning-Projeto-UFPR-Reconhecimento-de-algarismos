{
 "cells": [
  {
   "cell_type": "code",
   "execution_count": 7,
   "metadata": {},
   "outputs": [],
   "source": [
    "from matplotlib import pyplot as plt\n",
    "import numpy as np\n",
    "import cv2"
   ]
  },
  {
   "cell_type": "code",
   "execution_count": 8,
   "metadata": {},
   "outputs": [],
   "source": [
    "img = cv2.imread('teste1.jpeg')\n",
    "gray = cv2.cvtColor(img, cv2.COLOR_BGR2GRAY)"
   ]
  },
  {
   "cell_type": "code",
   "execution_count": 9,
   "metadata": {},
   "outputs": [],
   "source": [
    "ret, thresh = cv2.threshold(gray, 175, 255, cv2.THRESH_BINARY)\n",
    "#ret, thresh = cv2.threshold(gray, 0, 255, cv2.THRESH_OTSU)\n",
    "cv2.imshow('imagem2', thresh)\n",
    "cv2.waitKey(0)\n",
    "cv2.destroyAllWindows()"
   ]
  },
  {
   "cell_type": "code",
   "execution_count": 10,
   "metadata": {},
   "outputs": [],
   "source": [
    "contours, hierarchy = cv2.findContours(thresh, cv2.RETR_LIST, cv2.CHAIN_APPROX_SIMPLE)"
   ]
  },
  {
   "cell_type": "code",
   "execution_count": 11,
   "metadata": {},
   "outputs": [],
   "source": [
    "area = []\n",
    "from copy import copy\n",
    "for i, ctr in enumerate(contours):\n",
    "    x, y, w, h = cv2.boundingRect(ctr)\n",
    "    area.append(w*h)\n",
    "aux = copy(area)\n",
    "aux.sort(reverse = True)\n"
   ]
  },
  {
   "cell_type": "code",
   "execution_count": 12,
   "metadata": {},
   "outputs": [],
   "source": [
    "for i, ctr in enumerate(contours):\n",
    "    x, y, w, h = cv2.boundingRect(ctr)\n",
    "\n",
    "    if 0.25*aux[1] < area[i]:\n",
    "        rect = cv2.rectangle(thresh, (x, y), (x + w, y + h), (0, 255, 0), 2) \n",
    "        cv2.imshow('rect', rect)\n",
    "        cv2.imwrite(str(i)+\".jpg\",thresh[y:y+h,x:x+w])\n",
    "        i=i+1\n",
    "\n",
    "cv2.waitKey(0)\n",
    "cv2.destroyAllWindows()"
   ]
  }
 ],
 "metadata": {
  "kernelspec": {
   "display_name": "Python 3",
   "language": "python",
   "name": "python3"
  },
  "language_info": {
   "codemirror_mode": {
    "name": "ipython",
    "version": 3
   },
   "file_extension": ".py",
   "mimetype": "text/x-python",
   "name": "python",
   "nbconvert_exporter": "python",
   "pygments_lexer": "ipython3",
   "version": "3.6.8"
  }
 },
 "nbformat": 4,
 "nbformat_minor": 2
}
