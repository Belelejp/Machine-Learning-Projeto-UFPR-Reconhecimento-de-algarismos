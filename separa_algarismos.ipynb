{
 "cells": [
  {
   "cell_type": "code",
   "execution_count": 1,
   "metadata": {},
   "outputs": [],
   "source": [
    "# O objetivo final é identificar os algarismos na foto e retornar uma imagem quadrada\n",
    "# de tamanho padrão com cada um deles centralizados.\n",
    "#\n",
    "# Atenção: quando a imagem aparecer não feche a janela, aperte alguma tecla ou então\n",
    "# o jupyter da erro.\n",
    "#\n",
    "# Falta:\n",
    "# - melhorar o threshold, pois pode falhar dependendo da claridade da foto;\n",
    "# - atualmente o código retorna um retângulo que 'encosta' no algarismo, falta\n",
    "#   formar uma imagem quadrada, centralizada e padronizar o tamanho."
   ]
  },
  {
   "cell_type": "code",
   "execution_count": 2,
   "metadata": {},
   "outputs": [],
   "source": [
    "from matplotlib import pyplot as plt\n",
    "import numpy as np\n",
    "import cv2"
   ]
  },
  {
   "cell_type": "code",
   "execution_count": 3,
   "metadata": {},
   "outputs": [],
   "source": [
    "img = cv2.imread('teste1.jpeg')\n",
    "gray = cv2.cvtColor(img, cv2.COLOR_BGR2GRAY)                   # deixa a imagem em escala de cinza"
   ]
  },
  {
   "cell_type": "code",
   "execution_count": 4,
   "metadata": {},
   "outputs": [],
   "source": [
    "ret, thresh = cv2.threshold(gray, 175, 255, cv2.THRESH_BINARY) # binariza a imagem\n",
    "#ret, thresh = cv2.threshold(gray, 0, 255, cv2.THRESH_OTSU)\n",
    "cv2.imshow('imagem2', thresh)                                  # plota a imagem binarizada\n",
    "cv2.waitKey(0)\n",
    "cv2.destroyAllWindows()"
   ]
  },
  {
   "cell_type": "code",
   "execution_count": 5,
   "metadata": {},
   "outputs": [],
   "source": [
    "# identifica contornos na imagem\n",
    "contours, hierarchy = cv2.findContours(thresh, cv2.RETR_LIST, cv2.CHAIN_APPROX_SIMPLE)"
   ]
  },
  {
   "cell_type": "code",
   "execution_count": 6,
   "metadata": {},
   "outputs": [],
   "source": [
    "# calcula as áreas dos retângulos construídos pelos contornos identificados\n",
    "# o retângulo é limitado entre x e x+h na horizontal e entre y e y+w na vertical\n",
    "area = []\n",
    "from copy import copy\n",
    "for i, ctr in enumerate(contours):\n",
    "    x, y, w, h = cv2.boundingRect(ctr)\n",
    "    area.append(w*h)\n",
    "aux = copy(area)\n",
    "aux.sort(reverse = True)\n"
   ]
  },
  {
   "cell_type": "code",
   "execution_count": 7,
   "metadata": {},
   "outputs": [],
   "source": [
    "# imaginando que os algarismos são os maiores contornos, é suposto que\n",
    "# todo contorno de tamanho superior a 25% do maior corresponde a um algarismo\n",
    "for i, ctr in enumerate(contours):\n",
    "    x, y, w, h = cv2.boundingRect(ctr)\n",
    "\n",
    "    if 0.25*aux[1] < area[i]:\n",
    "        rect = cv2.rectangle(thresh, (x, y), (x + w, y + h), (0, 255, 0), 2) \n",
    "        cv2.imshow('rect', rect)\n",
    "        cv2.imwrite(str(i)+\".jpg\",thresh[y:y+h,x:x+w])\n",
    "        i=i+1\n",
    "\n",
    "cv2.waitKey(0)\n",
    "cv2.destroyAllWindows()"
   ]
  }
 ],
 "metadata": {
  "kernelspec": {
   "display_name": "Python 3",
   "language": "python",
   "name": "python3"
  },
  "language_info": {
   "codemirror_mode": {
    "name": "ipython",
    "version": 3
   },
   "file_extension": ".py",
   "mimetype": "text/x-python",
   "name": "python",
   "nbconvert_exporter": "python",
   "pygments_lexer": "ipython3",
   "version": "3.6.7"
  }
 },
 "nbformat": 4,
 "nbformat_minor": 2
}
