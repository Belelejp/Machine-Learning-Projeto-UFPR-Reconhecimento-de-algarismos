{
 "cells": [
  {
   "cell_type": "code",
   "execution_count": 8,
   "metadata": {},
   "outputs": [],
   "source": [
    "# O objetivo final é identificar os algarismos na foto e retornar uma imagem quadrada\n",
    "# de tamanho padrão com cada um deles centralizados.\n",
    "#\n",
    "# Atenção: quando a imagem aparecer não feche a janela, aperte alguma tecla ou então\n",
    "# o jupyter da erro.\n",
    "#\n",
    "# Falta:\n",
    "# - melhorar o threshold, pois pode falhar dependendo da claridade da foto;\n",
    "# - atualmente o código retorna um retângulo que 'encosta' no algarismo, falta\n",
    "#   formar uma imagem quadrada, centralizada e padronizar o tamanho."
   ]
  },
  {
   "cell_type": "code",
   "execution_count": 9,
   "metadata": {},
   "outputs": [],
   "source": [
    "import numpy as np\n",
    "import cv2"
   ]
  },
  {
   "cell_type": "code",
   "execution_count": 10,
   "metadata": {},
   "outputs": [],
   "source": [
    "# deixa a imagem em escala de cinza\n",
    "img = cv2.imread('teste2.jpeg')\n",
    "gray = cv2.cvtColor(img, cv2.COLOR_BGR2GRAY)"
   ]
  },
  {
   "cell_type": "code",
   "execution_count": 11,
   "metadata": {},
   "outputs": [],
   "source": [
    "# binariza e plota\n",
    "ret, thresh = cv2.threshold(gray, 175, 255, cv2.THRESH_BINARY)\n",
    "#ret, thresh = cv2.threshold(gray, 0, 255, cv2.THRESH_OTSU)\n",
    "cv2.imshow('binarizada', thresh)\n",
    "cv2.waitKey(0)\n",
    "cv2.destroyAllWindows()"
   ]
  },
  {
   "cell_type": "code",
   "execution_count": 12,
   "metadata": {},
   "outputs": [],
   "source": [
    "# identifica contornos na imagem\n",
    "contours, hierarchy = cv2.findContours(thresh, cv2.RETR_LIST, cv2.CHAIN_APPROX_SIMPLE)"
   ]
  },
  {
   "cell_type": "code",
   "execution_count": 13,
   "metadata": {},
   "outputs": [],
   "source": [
    "# calcula as áreas dos retângulos construídos pelos contornos em contours\n",
    "# o retângulo é limitado entre x e x+h na horizontal e entre y e y+w na vertical\n",
    "area = np.zeros(len(contours))\n",
    "for i, ctr in enumerate(contours):\n",
    "    x, y, w, h = cv2.boundingRect(ctr)\n",
    "    area[i] = w*h\n",
    "bigarea = np.amax(area[0:-1])\n",
    "# bigarea é a area do maior dígito, area[-1] corresponde a toda a imagem e por isso é desprezado"
   ]
  },
  {
   "cell_type": "code",
   "execution_count": 14,
   "metadata": {},
   "outputs": [],
   "source": [
    "# imaginando que os algarismos são os maiores contornos, é suposto que\n",
    "# todo contorno de tamanho superior a 15% do maior corresponde a um algarismo\n",
    "for i, ctr in enumerate(contours):\n",
    "    x, y, w, h = cv2.boundingRect(ctr)\n",
    "\n",
    "    if 0.15*aux[1] < area[i]:\n",
    "        cv2.imwrite(str(i)+\".jpg\",thresh[y:y+h,x:x+w])\n",
    "        cv2.rectangle(thresh, (x, y), (x + w, y + h), (0, 255, 0), 2) \n",
    "        i=i+1"
   ]
  },
  {
   "cell_type": "code",
   "execution_count": 15,
   "metadata": {},
   "outputs": [],
   "source": [
    "# plota a imagem mostrando os cortes\n",
    "cv2.imshow('cortes', thresh)\n",
    "cv2.waitKey(0)\n",
    "cv2.destroyAllWindows()"
   ]
  }
 ],
 "metadata": {
  "kernelspec": {
   "display_name": "Python 3",
   "language": "python",
   "name": "python3"
  },
  "language_info": {
   "codemirror_mode": {
    "name": "ipython",
    "version": 3
   },
   "file_extension": ".py",
   "mimetype": "text/x-python",
   "name": "python",
   "nbconvert_exporter": "python",
   "pygments_lexer": "ipython3",
   "version": "3.6.7"
  }
 },
 "nbformat": 4,
 "nbformat_minor": 2
}
